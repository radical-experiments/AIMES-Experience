{
 "cells": [
  {
   "cell_type": "code",
   "execution_count": 2,
   "metadata": {
    "collapsed": false
   },
   "outputs": [],
   "source": [
    "%matplotlib inline\n",
    "\n",
    "import numpy as np\n",
    "import scipy as sp\n",
    "import pandas as pd\n",
    "import scipy.stats as sps\n",
    "import statsmodels.api as sm\n",
    "\n",
    "import matplotlib as mpl\n",
    "import matplotlib.pyplot as plt\n",
    "import matplotlib.mlab as mlab\n",
    "import matplotlib.ticker as ticker\n",
    "import matplotlib.gridspec as gridspec\n",
    "\n",
    "import radical.utils as ru\n",
    "import radical.pilot as rp\n",
    "import radical.analytics as ra\n",
    "\n",
    "from IPython.display import display\n",
    "from scipy.stats import linregress\n",
    "\n",
    "pd.set_option('expand_frame_repr', False)\n",
    "pd.set_option('display.max_rows', 50)"
   ]
  },
  {
   "cell_type": "code",
   "execution_count": 3,
   "metadata": {
    "collapsed": true
   },
   "outputs": [],
   "source": [
    "# Global configurations\n",
    "# ---------------------\n",
    "\n",
    "# Use LaTeX and its body font for the diagrams' text.\n",
    "mpl.rcParams['text.usetex'] = True \n",
    "mpl.rcParams['font.family'] = 'serif'\n",
    "mpl.rcParams['font.serif']  = ['Nimbus Roman Becker No9L']\n",
    "\n",
    "# Font sizes\n",
    "SIZE = 12\n",
    "plt.rc('font', size=SIZE)  # controls default text sizes\n",
    "plt.rc('axes', titlesize=SIZE)  # fontsize of the axes title\n",
    "plt.rc('axes', labelsize=SIZE)  # fontsize of the x any y labels\n",
    "plt.rc('xtick', labelsize=SIZE)  # fontsize of the tick labels\n",
    "plt.rc('ytick', labelsize=SIZE)  # fontsize of the tick labels\n",
    "plt.rc('legend', fontsize=SIZE-2)  # legend fontsize\n",
    "plt.rc('figure', titlesize=SIZE)  # # size of the figure title\n",
    "\n",
    "# Use thinner lines for axes to avoid distractions.\n",
    "mpl.rcParams['axes.linewidth']    = 0.75\n",
    "mpl.rcParams['xtick.major.width'] = 0.75\n",
    "mpl.rcParams['xtick.minor.width'] = 0.75\n",
    "mpl.rcParams['ytick.major.width'] = 0.75\n",
    "mpl.rcParams['ytick.minor.width'] = 0.75\n",
    "\n",
    "# Do not use a box for the legend to avoid distractions.\n",
    "mpl.rcParams['legend.frameon'] = False\n",
    "\n",
    "# Helpers\n",
    "# -------\n",
    "\n",
    "# Use coordinated colors. These are the \"Tableau 20\" colors as \n",
    "# RGB. Each pair is strong/light. For a theory of color    \n",
    "tableau20 = [(31 , 119, 180), (174, 199, 232), # blue        [ 0,1 ]\n",
    "             (255, 127, 14 ), (255, 187, 120), # orange      [ 2,3 ]\n",
    "             (44 , 160, 44 ), (152, 223, 138), # green       [ 4,5 ]\n",
    "             (214, 39 , 40 ), (255, 152, 150), # red         [ 6,7 ]\n",
    "             (148, 103, 189), (197, 176, 213), # purple      [ 8,9 ]\n",
    "             (140, 86 , 75 ), (196, 156, 148), # brown       [10,11]\n",
    "             (227, 119, 194), (247, 182, 210), # pink        [12,13]\n",
    "             (188, 189, 34 ), (219, 219, 141), # yellow      [14,15]\n",
    "             (23 , 190, 207), (158, 218, 229), # cyan        [16,17]\n",
    "             (65 , 68 , 81 ), (96 , 99 , 106), # gray        [18,19]\n",
    "             (127, 127, 127), (143, 135, 130), # gray        [20,21] \n",
    "             (165, 172, 175), (199, 199, 199), # gray        [22,23]\n",
    "             (207, 207, 207)]                   # gray        [24]\n",
    "  \n",
    "# Scale the RGB values to the [0, 1] range, which is the format \n",
    "# matplotlib accepts.    \n",
    "for i in range(len(tableau20)):  \n",
    "    r, g, b = tableau20[i]  \n",
    "    tableau20[i] = (r / 255., g / 255., b / 255.)    \n",
    "\n",
    "# Return a single plot without right and top axes\n",
    "def fig_setup():\n",
    "    fig = plt.figure(figsize=(13,7))\n",
    "    ax = fig.add_subplot(111)  \n",
    "    ax.spines[\"top\"].set_visible(False)  \n",
    "    ax.spines[\"right\"].set_visible(False)  \n",
    "    ax.get_xaxis().tick_bottom()  \n",
    "    ax.get_yaxis().tick_left()\n",
    "    \n",
    "    return fig, ax"
   ]
  },
  {
   "cell_type": "code",
   "execution_count": 4,
   "metadata": {
    "collapsed": true
   },
   "outputs": [],
   "source": [
    "sessions = pd.read_csv('data/sessions.csv', index_col=0)\n",
    "pilots = pd.read_csv('data/pilots.csv', index_col=0)\n",
    "units = pd.read_csv('data/units.csv', index_col=0)"
   ]
  },
  {
   "cell_type": "markdown",
   "metadata": {},
   "source": [
    "sessions"
   ]
  },
  {
   "cell_type": "code",
   "execution_count": 7,
   "metadata": {
    "collapsed": false
   },
   "outputs": [
    {
     "data": {
      "text/html": [
       "<div>\n",
       "<table border=\"1\" class=\"dataframe\">\n",
       "  <thead>\n",
       "    <tr style=\"text-align: right;\">\n",
       "      <th></th>\n",
       "      <th>P_LRMS_QUEUING</th>\n",
       "      <th>P_LRMS_RUNNING</th>\n",
       "      <th>P_LRMS_SUBMITTING</th>\n",
       "      <th>P_PMGR_QUEUING</th>\n",
       "      <th>P_PMGR_SCHEDULING</th>\n",
       "      <th>experiment</th>\n",
       "      <th>hid</th>\n",
       "      <th>ncore</th>\n",
       "      <th>nunit</th>\n",
       "      <th>pid</th>\n",
       "      <th>sid</th>\n",
       "    </tr>\n",
       "  </thead>\n",
       "  <tbody>\n",
       "    <tr>\n",
       "      <th>0</th>\n",
       "      <td>170.728</td>\n",
       "      <td>300.9957</td>\n",
       "      <td>20.97</td>\n",
       "      <td>0.0014</td>\n",
       "      <td>0.0995</td>\n",
       "      <td>exp1</td>\n",
       "      <td>smic229.204.90.41.229</td>\n",
       "      <td>4</td>\n",
       "      <td>4</td>\n",
       "      <td>pilot.0000</td>\n",
       "      <td>rp.session.one.mturilli.017238.0010</td>\n",
       "    </tr>\n",
       "  </tbody>\n",
       "</table>\n",
       "</div>"
      ],
      "text/plain": [
       "   P_LRMS_QUEUING  P_LRMS_RUNNING  P_LRMS_SUBMITTING  P_PMGR_QUEUING  P_PMGR_SCHEDULING experiment                    hid  ncore  nunit         pid                                  sid\n",
       "0         170.728        300.9957              20.97          0.0014             0.0995       exp1  smic229.204.90.41.229      4      4  pilot.0000  rp.session.one.mturilli.017238.0010"
      ]
     },
     "execution_count": 7,
     "metadata": {},
     "output_type": "execute_result"
    }
   ],
   "source": [
    "pilots"
   ]
  },
  {
   "cell_type": "code",
   "execution_count": 8,
   "metadata": {
    "collapsed": false
   },
   "outputs": [
    {
     "data": {
      "text/html": [
       "<div>\n",
       "<table border=\"1\" class=\"dataframe\">\n",
       "  <thead>\n",
       "    <tr style=\"text-align: right;\">\n",
       "      <th></th>\n",
       "      <th>U_AGENT_EXECUTING</th>\n",
       "      <th>U_AGENT_QUEUING</th>\n",
       "      <th>U_AGENT_QUEUING_EXEC</th>\n",
       "      <th>U_AGENT_SCHEDULING</th>\n",
       "      <th>U_UMGR_BINDING</th>\n",
       "      <th>U_UMGR_SCHEDULING</th>\n",
       "      <th>experiment</th>\n",
       "      <th>hid</th>\n",
       "      <th>pid</th>\n",
       "      <th>sid</th>\n",
       "      <th>uid</th>\n",
       "    </tr>\n",
       "  </thead>\n",
       "  <tbody>\n",
       "    <tr>\n",
       "      <th>0</th>\n",
       "      <td>192.7569</td>\n",
       "      <td>0.0018</td>\n",
       "      <td>0.0231</td>\n",
       "      <td>0.0031</td>\n",
       "      <td>0.0015</td>\n",
       "      <td>0.1036</td>\n",
       "      <td>exp1</td>\n",
       "      <td>smic229.204.90.41.229</td>\n",
       "      <td>pilot.0000</td>\n",
       "      <td>rp.session.one.mturilli.017238.0010</td>\n",
       "      <td>unit.000000</td>\n",
       "    </tr>\n",
       "    <tr>\n",
       "      <th>1</th>\n",
       "      <td>192.7808</td>\n",
       "      <td>0.0018</td>\n",
       "      <td>0.0009</td>\n",
       "      <td>0.0008</td>\n",
       "      <td>0.0015</td>\n",
       "      <td>0.1026</td>\n",
       "      <td>exp1</td>\n",
       "      <td>smic229.204.90.41.229</td>\n",
       "      <td>pilot.0000</td>\n",
       "      <td>rp.session.one.mturilli.017238.0010</td>\n",
       "      <td>unit.000001</td>\n",
       "    </tr>\n",
       "    <tr>\n",
       "      <th>2</th>\n",
       "      <td>191.7698</td>\n",
       "      <td>0.0018</td>\n",
       "      <td>0.0092</td>\n",
       "      <td>0.0015</td>\n",
       "      <td>0.0015</td>\n",
       "      <td>0.1016</td>\n",
       "      <td>exp1</td>\n",
       "      <td>smic229.204.90.41.229</td>\n",
       "      <td>pilot.0000</td>\n",
       "      <td>rp.session.one.mturilli.017238.0010</td>\n",
       "      <td>unit.000002</td>\n",
       "    </tr>\n",
       "    <tr>\n",
       "      <th>3</th>\n",
       "      <td>192.7654</td>\n",
       "      <td>0.0018</td>\n",
       "      <td>0.0162</td>\n",
       "      <td>0.0023</td>\n",
       "      <td>0.0015</td>\n",
       "      <td>0.1007</td>\n",
       "      <td>exp1</td>\n",
       "      <td>smic229.204.90.41.229</td>\n",
       "      <td>pilot.0000</td>\n",
       "      <td>rp.session.one.mturilli.017238.0010</td>\n",
       "      <td>unit.000003</td>\n",
       "    </tr>\n",
       "  </tbody>\n",
       "</table>\n",
       "</div>"
      ],
      "text/plain": [
       "   U_AGENT_EXECUTING  U_AGENT_QUEUING  U_AGENT_QUEUING_EXEC  U_AGENT_SCHEDULING  U_UMGR_BINDING  U_UMGR_SCHEDULING experiment                    hid         pid                                  sid          uid\n",
       "0           192.7569           0.0018                0.0231              0.0031          0.0015             0.1036       exp1  smic229.204.90.41.229  pilot.0000  rp.session.one.mturilli.017238.0010  unit.000000\n",
       "1           192.7808           0.0018                0.0009              0.0008          0.0015             0.1026       exp1  smic229.204.90.41.229  pilot.0000  rp.session.one.mturilli.017238.0010  unit.000001\n",
       "2           191.7698           0.0018                0.0092              0.0015          0.0015             0.1016       exp1  smic229.204.90.41.229  pilot.0000  rp.session.one.mturilli.017238.0010  unit.000002\n",
       "3           192.7654           0.0018                0.0162              0.0023          0.0015             0.1007       exp1  smic229.204.90.41.229  pilot.0000  rp.session.one.mturilli.017238.0010  unit.000003"
      ]
     },
     "execution_count": 8,
     "metadata": {},
     "output_type": "execute_result"
    }
   ],
   "source": [
    "units"
   ]
  },
  {
   "cell_type": "markdown",
   "metadata": {},
   "source": [
    "## Experiment 1"
   ]
  },
  {
   "cell_type": "code",
   "execution_count": 13,
   "metadata": {
    "collapsed": false
   },
   "outputs": [
    {
     "data": {
      "image/png": "[encoded data removed]",
      "text/plain": [
       "<matplotlib.figure.Figure at 0x10d6aded0>"
      ]
     },
     "metadata": {},
     "output_type": "display_data"
    }
   ],
   "source": [
    "fig, ax = fig_setup()\n",
    "title='Stampede XSEDE\\nDensity of Synapse Emulation Execution Time (Tx)'\n",
    "\n",
    "# KDE execution time\n",
    "# display(sps.normaltest(units['U_AGENT_EXECUTING'].dropna().tolist()))\n",
    "units[['U_AGENT_EXECUTING']].dropna().reset_index(drop=True).plot.density(ax=ax, color='black', title=title)\n",
    "\n",
    "# Normed Histogram \n",
    "units[['U_AGENT_EXECUTING']].dropna().reset_index(drop=True).plot.hist(\n",
    "                ax=ax, \n",
    "                color='gray', \n",
    "                bins=4, \n",
    "                alpha = 0.20,\n",
    "                normed=True)\n",
    "\n",
    "plt.axvline(units['U_AGENT_EXECUTING'].dropna().mean(), color='r', linestyle='dashed', linewidth=1)\n",
    "\n",
    "plt.xlabel('Time (s)')\n",
    "ax.legend(labels=['Task Execution Time (Tx)', 'Mean'])\n",
    "\n",
    "plt.savefig('figures/supermic_tx_frequency.pdf', dpi=600, bbox_inches='tight')"
   ]
  },
  {
   "cell_type": "code",
   "execution_count": null,
   "metadata": {
    "collapsed": true
   },
   "outputs": [],
   "source": []
  }
 ],
 "metadata": {
  "hide_input": false,
  "kernelspec": {
   "display_name": "Python 2",
   "language": "python",
   "name": "python2"
  },
  "language_info": {
   "codemirror_mode": {
    "name": "ipython",
    "version": 2
   },
   "file_extension": ".py",
   "mimetype": "text/x-python",
   "name": "python",
   "nbconvert_exporter": "python",
   "pygments_lexer": "ipython2",
   "version": "2.7.10"
  },
  "latex_envs": {
   "LaTeX_envs_menu_present": true,
   "bibliofile": "biblio.bib",
   "cite_by": "apalike",
   "current_citInitial": 1,
   "eqLabelWithNumbers": true,
   "eqNumInitial": 1,
   "hotkeys": {
    "equation": "Ctrl-E",
    "itemize": "Ctrl-I"
   },
   "labels_anchors": false,
   "latex_user_defs": false,
   "report_style_numbering": false,
   "user_envs_cfg": false
  }
 },
 "nbformat": 4,
 "nbformat_minor": 1
}
